{
 "cells": [
  {
   "cell_type": "markdown",
   "metadata": {},
   "source": [
    "# Materials Project API로 산화물 정보 불러오기\n",
    "\n",
    "옥사이드 물질들을 불러오기"
   ]
  },
  {
   "cell_type": "code",
   "execution_count": null,
   "metadata": {},
   "outputs": [],
   "source": [
    "pip install mp_api\n"
   ]
  },
  {
   "cell_type": "code",
   "execution_count": 1,
   "metadata": {
    "notebookRunGroups": {
     "groupValue": ""
    }
   },
   "outputs": [
    {
     "ename": "ModuleNotFoundError",
     "evalue": "No module named 'mp_api'",
     "output_type": "error",
     "traceback": [
      "\u001b[0;31m---------------------------------------------------------------------------\u001b[0m",
      "\u001b[0;31mModuleNotFoundError\u001b[0m                       Traceback (most recent call last)",
      "Cell \u001b[0;32mIn[1], line 1\u001b[0m\n\u001b[0;32m----> 1\u001b[0m \u001b[38;5;28;01mfrom\u001b[39;00m \u001b[38;5;21;01mmp_api\u001b[39;00m\u001b[38;5;21;01m.\u001b[39;00m\u001b[38;5;21;01mclient\u001b[39;00m \u001b[38;5;28;01mimport\u001b[39;00m MPRester\n\u001b[1;32m      2\u001b[0m \u001b[38;5;28;01mimport\u001b[39;00m \u001b[38;5;21;01mjson\u001b[39;00m\n",
      "\u001b[0;31mModuleNotFoundError\u001b[0m: No module named 'mp_api'"
     ]
    }
   ],
   "source": [
    "from mp_api.client import MPRester\n",
    "import json"
   ]
  },
  {
   "cell_type": "code",
   "execution_count": null,
   "metadata": {},
   "outputs": [],
   "source": [
    "with MPRester(\"GP3G3NEEFhSQTwS8tYqD8xSLlf3Nx8Q8\") as mpr:\n",
    "    docs = mpr.materials.summary.search(elements=[\"O\"], fields=[\"material_id\", \"band_gap\", \"structure\"])\n",
    "    \n",
    "    # band_gap 값이 None이 아니고 0보다 큰 경우에만 딕셔너리에 저장\n",
    "    mpid_bg_dict = {}\n",
    "    for doc in docs:\n",
    "        if doc.band_gap is not None and doc.band_gap > 0:\n",
    "            mpid_bg_dict[doc.material_id] = (doc.band_gap, doc.structure.as_dict())"
   ]
  },
  {
   "cell_type": "code",
   "execution_count": null,
   "metadata": {},
   "outputs": [],
   "source": [
    "with open(\"mpid_bg_structure_O_1.json\", \"w\") as json_file:\n",
    "    json.dump(mpid_bg_dict, json_file) "
   ]
  },
  {
   "cell_type": "code",
   "execution_count": null,
   "metadata": {},
   "outputs": [],
   "source": [
    "'''\n",
    "\n",
    "# 파일을 열고 JSON 데이터를 파이썬 딕셔너리로 불러옴\n",
    "with open(\"mpid_bg_structure_O_1.json\", \"r\") as json_file:\n",
    "    data = json.load(json_file)\n",
    "\n",
    "# 데이터(딕셔너리)의 길이를 출력하여 데이터의 개수 확인\n",
    "print(len(data))\n",
    "'''"
   ]
  },
  {
   "cell_type": "code",
   "execution_count": null,
   "metadata": {},
   "outputs": [],
   "source": [
    "'''\n",
    "import random\n",
    "\n",
    "# load_dataset() 함수로부터 데이터셋을 로드합니다.\n",
    "structures, mp_ids, band_gaps = load_dataset()\n",
    "\n",
    "# 데이터셋 크기와 1만개 중 작은 값을 선택합니다.\n",
    "num_samples = min(len(mp_ids), 10000)\n",
    "\n",
    "# mp_ids 리스트에서 랜덤하게 1만개의 인덱스를 선택합니다.\n",
    "random_indices = random.sample(range(len(mp_ids)), num_samples)\n",
    "\n",
    "# 선택된 인덱스에 해당하는 데이터를 추출합니다.\n",
    "random_structures = [structures[idx] for idx in random_indices]\n",
    "random_mp_ids = [mp_ids[idx] for idx in random_indices]\n",
    "random_band_gaps = [band_gaps[idx] for idx in random_indices]\n",
    "\n",
    "# 결과 확인을 위해 출력합니다.\n",
    "print(\"Randomly selected data:\")\n",
    "print(\"Number of samples:\", len(random_structures))\n",
    "print(\"Example structure:\", random_structures[0])\n",
    "print(\"Example mp_id:\", random_mp_ids[0])\n",
    "print(\"Example band gap:\", random_band_gaps[0])\n",
    "'''"
   ]
  },
  {
   "cell_type": "markdown",
   "metadata": {},
   "source": []
  }
 ],
 "metadata": {
  "kernelspec": {
   "display_name": "megnet_demo",
   "language": "python",
   "name": "python3"
  },
  "language_info": {
   "codemirror_mode": {
    "name": "ipython",
    "version": 3
   },
   "file_extension": ".py",
   "mimetype": "text/x-python",
   "name": "python",
   "nbconvert_exporter": "python",
   "pygments_lexer": "ipython3",
   "version": "3.10.14"
  }
 },
 "nbformat": 4,
 "nbformat_minor": 2
}
