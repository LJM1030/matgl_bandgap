{
 "cells": [
  {
   "cell_type": "code",
   "execution_count": 1,
   "metadata": {},
   "outputs": [],
   "source": [
    "from __future__ import annotations\n",
    "\n",
    "# 기본 Python 모듈 및 패키지 import\n",
    "import os             # 운영 체제와 상호 작용하기 위한 모듈\n",
    "import shutil         # 파일 및 디렉토리 작업을 위한 모듈\n",
    "import warnings       # 경고를 관리하기 위한 모듈\n",
    "import zipfile        # ZIP 아카이브를 처리하기 위한 모듈\n",
    "import json\n",
    "\n",
    "import matplotlib.pyplot as plt     # 데이터 시각화를 위한 Matplotlib의 pyplot 모듈\n",
    "import pandas as pd                 # 데이터 조작 및 분석을 위한 Pandas 라이브러리\n",
    "import pytorch_lightning as pl      # PyTorch Lightning 라이브러리\n",
    "import torch                        # PyTorch 딥러닝 프레임워크\n",
    "from tqdm import tqdm               # 진행률 표시를 위한 라이브러리\n",
    "\n",
    "\n",
    "# 외부 패키지 import\n",
    "from dgl.data.utils import split_dataset            #  DGL(Distributed Graph Library) 패키지의 데이터 유틸리티 함수\n",
    "from pymatgen.core import Structure                 #  pymatgen 라이브러리의 구조 클래스\n",
    "from pytorch_lightning.loggers import CSVLogger     #  PyTorch Lightning의 CSV 로거 클래스\n",
    "\n",
    "\n",
    "from matgl.ext.pymatgen import Structure2Graph, get_element_list     # matgl 라이브러리의 pymatgen 확장 모듈\n",
    "from matgl.graph.data import MGLDataset, MGLDataLoader, collate_fn   # matgl 라이브러리의 그래프 데이터 관련 모듈\n",
    "from matgl.layers import BondExpansion                               # matgl 라이브러리의 BondExpansion 클래스\n",
    "from matgl.models import MEGNet                                      # matgl 라이브러리의 MEGNet 클래스\n",
    "from matgl.utils.io import RemoteFile                                # matgl 라이브러리의 입출력 및 훈련 관련 유틸리티 모듈\n",
    "from matgl.utils.training import ModelLightningModule                # matgl 라이브러리의 입출력 및 훈련 관련 유틸리티 모듈\n",
    "\n",
    "# 경고를 무시하도록 설정하는 것으로, 출력을 더 깔끔하게 만듭니다.\n",
    "warnings.simplefilter(\"ignore\")"
   ]
  },
  {
   "cell_type": "code",
   "execution_count": 2,
   "metadata": {},
   "outputs": [],
   "source": [
    "\n",
    "\n",
    "def load_dataset() -> tuple[list[Structure], list[str], list[float]]:\n",
    "    \"\"\"\n",
    "    Load and process the dataset from a JSON file containing material properties.\n",
    "\n",
    "    Returns:\n",
    "        tuple[list[Structure], list[str], list[float]]: A tuple containing a list of structures, a list of material IDs, and a list of formation energies per atom.\n",
    "    \"\"\"\n",
    "    # Assuming the dataset is named 'mpid_fE_structure_O.Si.json' and located in the current directory\n",
    "    file_path = '/home/ljm/matgl_bandgap/L2_2/mpid_bg_structure_O_1.json'\n",
    "\n",
    "    # Check if the file exists\n",
    "    if not os.path.exists(file_path):\n",
    "        raise FileNotFoundError(f\"{file_path} does not exist. Please make sure the dataset file is in the correct location.\")\n",
    "\n",
    "    # Load the dataset\n",
    "    with open(file_path, 'r') as file:\n",
    "        data = json.load(file)\n",
    "\n",
    "    # Initialize lists to store structures, material IDs, and formation energies\n",
    "    structures = []\n",
    "    mp_ids = []\n",
    "    band_gaps = []\n",
    "\n",
    "    # Iterate over the dataset\n",
    "    for mp_id, (band_gap, structure_dict) in data.items():\n",
    "        # Create a Structure object from the structure dictionary\n",
    "        structure = Structure.from_dict(structure_dict)\n",
    "\n",
    "        # Append to the lists\n",
    "        structures.append(structure)\n",
    "        mp_ids.append(mp_id)\n",
    "        band_gaps.append(band_gap)\n",
    "\n",
    "    return structures, mp_ids, band_gaps\n",
    "\n",
    "# Load the dataset\n",
    "structures, mp_ids, band_gaps = load_dataset()"
   ]
  },
  {
   "cell_type": "code",
   "execution_count": 3,
   "metadata": {},
   "outputs": [],
   "source": [
    "structures = structures\n",
    "Band_g = band_gaps"
   ]
  },
  {
   "cell_type": "code",
   "execution_count": 4,
   "metadata": {},
   "outputs": [],
   "source": [
    "# 데이터셋 내 원소 종류 추출\n",
    "elem_list = get_element_list(structures)\n",
    "# 그래프 변환기 설정\n",
    "converter = Structure2Graph(element_types=elem_list, cutoff=5.0)\n",
    "# convert the raw dataset into MEGNetDataset, 데이터셋 변환\n",
    "mp_dataset = MGLDataset(\n",
    "    structures=structures,\n",
    "    labels={\"Bgap\": Band_g},\n",
    "    converter=converter)"
   ]
  },
  {
   "cell_type": "code",
   "execution_count": 5,
   "metadata": {},
   "outputs": [],
   "source": [
    "train_data, val_data, test_data = split_dataset(\n",
    "    mp_dataset, # 모델에 입력으로 제공될 데이터셋\n",
    "    frac_list=[0.8, 0.1, 0.1],\n",
    "\n",
    "    shuffle=True,\n",
    "\n",
    "    # 셔플링 시 사용되는 시드(seed) 값\n",
    "    random_state=42,\n",
    ")\n",
    "train_loader, val_loader, test_loader = MGLDataLoader(\n",
    "    train_data=train_data,\n",
    "    val_data=val_data,\n",
    "    test_data=test_data,\n",
    "    collate_fn=collate_fn,  # 데이터셋으로부터 미니배치를 생성하는 함수\n",
    "\n",
    "    # 데이터로더에서 사용되는 미니배치의 크기를 나타내는 매개변수입니다.\n",
    "    # 한 번에 처리되는 데이터 포인트의 수를 결정\n",
    "    # 2개의 데이터 포인트를 동시에 처리하여 그래디언트를 계산하고 가중치를 업데이트\n",
    "    batch_size=128,\n",
    "\n",
    "    # 데이터로더에서 사용할 프로세스의 수를 나타내는 매개변수입니다.\n",
    "    # 데이터를 로드하는 데 사용되는 병렬 처리의 정도를 결정\n",
    "\n",
    "    num_workers=9,\n",
    ")"
   ]
  },
  {
   "cell_type": "code",
   "execution_count": 6,
   "metadata": {},
   "outputs": [],
   "source": [
    "# 노드 속성을 위한 임베딩 레이어를 설정\n",
    "node_embed = torch.nn.Embedding(len(elem_list), 16)\n",
    "# 본드 확장을 정의\n",
    "bond_expansion = BondExpansion(rbf_type=\"Gaussian\", initial=0.0, final=5.0, num_centers=100, width=0.5)\n",
    "\n",
    "# MEGNet 모델의 아키텍처를 설정\n",
    "model = MEGNet(\n",
    "    dim_node_embedding=16,\n",
    "    dim_edge_embedding=100,\n",
    "    dim_state_embedding=2,#값 변동\n",
    "    ntypes_stats = 4, #추가한 레이어 \n",
    "    nblocks=3,\n",
    "    hidden_layer_sizes_input=(64, 32),\n",
    "    hidden_layer_sizes_conv=(64, 64, 32),\n",
    "    hidden_layer_sizes_output=(32, 16),#위치 변경 레이어\n",
    "    nlayers_set2set=1,\n",
    "    niters_set2set=3,#값 변동\n",
    "    activation_type=\"softplus2\",\n",
    "    is_classification=False,\n",
    "    include_state= True,\n",
    "    dropout= 0.3,#추가 \n",
    "    graph_transformations= None, #추가 \n",
    "    element_types= None,#추가 \n",
    "    bond_expansion= None, #값변경 \n",
    "    cutoff=5.0,#값 변경 \n",
    "    gauss_width=0.5,\n",
    ")\n",
    "import torch.optim as optim\n",
    "# setup the MEGNetTrainer\n",
    "# lit_module = ModelLightningModule(model=model)\n",
    "\n",
    "# Adam 옵티마이저 설정\n",
    "adam_optimizer = optim.Adam(model.parameters(), lr=0.001, weight_decay=1e-4)\n",
    "\n",
    "# ModelLightningModule 초기화\n",
    "lit_module = ModelLightningModule(model=model, optimizer=adam_optimizer, lr=0.001)"
   ]
  },
  {
   "cell_type": "code",
   "execution_count": 7,
   "metadata": {},
   "outputs": [
    {
     "data": {
      "text/plain": [
       "MEGNet(\n",
       "  (bond_expansion): BondExpansion(\n",
       "    (rbf): GaussianExpansion()\n",
       "  )\n",
       "  (embedding): EmbeddingBlock(\n",
       "    (activation): SoftPlus2(\n",
       "      (ssp): Softplus(beta=1, threshold=20)\n",
       "    )\n",
       "    (layer_node_embedding): Embedding(89, 16)\n",
       "  )\n",
       "  (edge_encoder): MLP(100 → 64, SoftPlus2, 64 → 32, SoftPlus2)\n",
       "  (node_encoder): MLP(16 → 64, SoftPlus2, 64 → 32, SoftPlus2)\n",
       "  (state_encoder): MLP(2 → 64, SoftPlus2, 64 → 32, SoftPlus2)\n",
       "  (blocks): ModuleList(\n",
       "    (0): MEGNetBlock(\n",
       "      (activation): SoftPlus2(\n",
       "        (ssp): Softplus(beta=1, threshold=20)\n",
       "      )\n",
       "      (edge_func): Identity()\n",
       "      (node_func): Identity()\n",
       "      (state_func): Identity()\n",
       "      (conv): MEGNetGraphConv(\n",
       "        (edge_func): MLP(128 → 64, SoftPlus2, 64 → 64, SoftPlus2, 64 → 32, SoftPlus2)\n",
       "        (node_func): MLP(96 → 64, SoftPlus2, 64 → 64, SoftPlus2, 64 → 32, SoftPlus2)\n",
       "        (state_func): MLP(96 → 64, SoftPlus2, 64 → 64, SoftPlus2, 64 → 32, SoftPlus2)\n",
       "      )\n",
       "      (dropout): Dropout(p=0.3, inplace=False)\n",
       "    )\n",
       "    (1-2): 2 x MEGNetBlock(\n",
       "      (activation): SoftPlus2(\n",
       "        (ssp): Softplus(beta=1, threshold=20)\n",
       "      )\n",
       "      (edge_func): MLP(32 → 64, SoftPlus2, 64 → 32, SoftPlus2)\n",
       "      (node_func): MLP(32 → 64, SoftPlus2, 64 → 32, SoftPlus2)\n",
       "      (state_func): MLP(32 → 64, SoftPlus2, 64 → 32, SoftPlus2)\n",
       "      (conv): MEGNetGraphConv(\n",
       "        (edge_func): MLP(128 → 64, SoftPlus2, 64 → 64, SoftPlus2, 64 → 32, SoftPlus2)\n",
       "        (node_func): MLP(96 → 64, SoftPlus2, 64 → 64, SoftPlus2, 64 → 32, SoftPlus2)\n",
       "        (state_func): MLP(96 → 64, SoftPlus2, 64 → 64, SoftPlus2, 64 → 32, SoftPlus2)\n",
       "      )\n",
       "      (dropout): Dropout(p=0.3, inplace=False)\n",
       "    )\n",
       "  )\n",
       "  (edge_s2s): EdgeSet2Set(\n",
       "    (lstm): LSTM(64, 32)\n",
       "  )\n",
       "  (node_s2s): Set2Set(\n",
       "    n_iters=3\n",
       "    (lstm): LSTM(64, 32)\n",
       "  )\n",
       "  (output_proj): MLP(160 → 32, SoftPlus2, 32 → 16, SoftPlus2, 16 → 1)\n",
       "  (dropout): Dropout(p=0.3, inplace=False)\n",
       ")"
      ]
     },
     "execution_count": 7,
     "metadata": {},
     "output_type": "execute_result"
    }
   ],
   "source": [
    "model.load_state_dict(torch.load(\"/home/ljm/matgl_bandgap/demo/pre_Bg_2.pth\"))\n",
    "\n",
    "# 모델을 평가 모드로 설정합니다.\n",
    "model.eval()"
   ]
  },
  {
   "cell_type": "code",
   "execution_count": 8,
   "metadata": {},
   "outputs": [],
   "source": [
    "from __future__ import annotations\n",
    "\n",
    "import warnings\n",
    "\n",
    "import torch\n",
    "from pymatgen.core import Lattice, Structure\n",
    "\n",
    "import matgl\n",
    "\n",
    "# To suppress warnings for clearer output\n",
    "warnings.simplefilter(\"ignore\")"
   ]
  },
  {
   "cell_type": "code",
   "execution_count": 9,
   "metadata": {},
   "outputs": [
    {
     "name": "stdout",
     "output_type": "stream",
     "text": [
      "<dgl.data.utils.Subset object at 0x7f9d9c2bd2d0>\n"
     ]
    }
   ],
   "source": [
    "print(test_data)"
   ]
  },
  {
   "cell_type": "code",
   "execution_count": 19,
   "metadata": {},
   "outputs": [],
   "source": [
    "struct = Structure.from_spacegroup(\"227\", Lattice.cubic(7.86), [\"Co\",\"O\"], [[3/8,\t5/8,\t7/8], [0.889537,0.110463,0.110463]])"
   ]
  },
  {
   "cell_type": "code",
   "execution_count": 21,
   "metadata": {},
   "outputs": [
    {
     "name": "stdout",
     "output_type": "stream",
     "text": [
      "The predicted Band gap for CoO2 is 0.186 eV.\n"
     ]
    }
   ],
   "source": [
    "band_G = model.predict_structure(struct)\n",
    "print(f\"The predicted Band gap for CoO2 is {float(band_G):.3f} eV.\")"
   ]
  },
  {
   "cell_type": "code",
   "execution_count": 23,
   "metadata": {},
   "outputs": [
    {
     "name": "stdout",
     "output_type": "stream",
     "text": [
      "<dgl.dataloading.dataloader.GraphDataLoader object at 0x7f9b6558a680>\n"
     ]
    }
   ],
   "source": [
    "print(test_loader)\n"
   ]
  }
 ],
 "metadata": {
  "kernelspec": {
   "display_name": "gpu",
   "language": "python",
   "name": "python3"
  },
  "language_info": {
   "codemirror_mode": {
    "name": "ipython",
    "version": 3
   },
   "file_extension": ".py",
   "mimetype": "text/x-python",
   "name": "python",
   "nbconvert_exporter": "python",
   "pygments_lexer": "ipython3",
   "version": "3.10.14"
  }
 },
 "nbformat": 4,
 "nbformat_minor": 2
}
